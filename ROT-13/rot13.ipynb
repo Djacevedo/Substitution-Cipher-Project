{
 "cells": [
  {
   "cell_type": "code",
   "execution_count": 5,
   "id": "7676d0bc",
   "metadata": {},
   "outputs": [],
   "source": [
    "# run to get access to functions in generic_sub_ciphers.ipynb and caesar.ipynb\n",
    "%run ../Generic_Sub_Ciphers/generic_sub_ciphers.ipynb\n",
    "%run ../Caesar/caesar.ipynb"
   ]
  }
 ],
 "metadata": {
  "kernelspec": {
   "display_name": "Python 3",
   "language": "python",
   "name": "python3"
  },
  "language_info": {
   "codemirror_mode": {
    "name": "ipython",
    "version": 3
   },
   "file_extension": ".py",
   "mimetype": "text/x-python",
   "name": "python",
   "nbconvert_exporter": "python",
   "pygments_lexer": "ipython3",
   "version": "3.12.1"
  }
 },
 "nbformat": 4,
 "nbformat_minor": 5
}
