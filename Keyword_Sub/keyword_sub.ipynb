{
 "cells": [
  {
   "cell_type": "code",
   "execution_count": null,
   "id": "a7b7b7ff",
   "metadata": {},
   "outputs": [],
   "source": [
    "# run to get access to functions in generic_sub_ciphers.ipynb (substitution_encrypt, substitution_decrypt, add_upper are ones that will be needed)\n",
    "%run ../Generic_Sub_Ciphers/generic_sub_ciphers.ipynb"
   ]
  },
  {
   "cell_type": "code",
   "execution_count": null,
   "id": "7bf48b50",
   "metadata": {},
   "outputs": [],
   "source": [
    "def keyword_cipher_alphabet(keyword): \n",
    "    alphabet = \"abcdefghijklmnopqrstuvwxyz\"\n",
    "    letter_list = []\n",
    "    cipher_alphabet = {}\n",
    "\n",
    "    # appends letters of keyword to letter_list if not already in letter_list\n",
    "    for letter in keyword:\n",
    "        if letter not in letter_list:\n",
    "           letter_list.append(letter)\n",
    "\n",
    "    # simultaneously appends letters from alphabet not already in letter_list to letter_list and maps the letters as values to alphabet keys\n",
    "    for index in range(len(alphabet)):\n",
    "        if alphabet[index] not in letter_list:\n",
    "           letter_list.append(alphabet[index])\n",
    "        cipher_alphabet[alphabet[index]] = letter_list[index]\n",
    "\n",
    "    return(cipher_alphabet)"
   ]
  }
 ],
 "metadata": {
  "kernelspec": {
   "display_name": "Python 3",
   "language": "python",
   "name": "python3"
  },
  "language_info": {
   "codemirror_mode": {
    "name": "ipython",
    "version": 3
   },
   "file_extension": ".py",
   "mimetype": "text/x-python",
   "name": "python",
   "nbconvert_exporter": "python",
   "pygments_lexer": "ipython3",
   "version": "3.12.1"
  }
 },
 "nbformat": 4,
 "nbformat_minor": 5
}
