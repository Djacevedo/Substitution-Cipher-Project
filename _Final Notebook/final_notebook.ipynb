{
 "cells": [
  {
   "cell_type": "markdown",
   "id": "ea086d00",
   "metadata": {},
   "source": [
    "### All Substitution Ciphers"
   ]
  },
  {
   "cell_type": "code",
   "execution_count": null,
   "id": "d17f4737",
   "metadata": {},
   "outputs": [],
   "source": [
    "def substitution_encrypt(plaintext_file,ciphertext_file,cipher_alphabet):\n",
    "    \"\"\"\n",
    "    Reads a plain text file, encrypts it using the provided cipher alphabet, and writes it to a ciphertext file\n",
    "\n",
    "    :param plantext_file: plaintext file to be read and encrypted\n",
    "    :param ciphertext_file: encrypted text is written to this file\n",
    "    :param cipher_alphabet: dictionary containing the alphabet as keys and the substitution letter as each value\n",
    "    \"\"\"\n",
    "    # opens plantext_file\n",
    "    with open(plaintext_file) as read_file:\n",
    "        encrypted_line = \"\"\n",
    "\n",
    "        # clears ciphertext_file if already existing, creates it if it doesn't\n",
    "        open(ciphertext_file, 'w').close()\n",
    "\n",
    "        # loops through each line and encrypts each alphabetic character while skipping non-alphabetic characters\n",
    "        for line in read_file:\n",
    "            for character in line:\n",
    "                if character in cipher_alphabet.keys():\n",
    "                    encrypted_line += cipher_alphabet[character]\n",
    "                else:\n",
    "                    encrypted_line += character\n",
    "\n",
    "            # appends the encrypted line to file\n",
    "        with open(ciphertext_file, 'a') as write_file:\n",
    "            write_file.write(encrypted_line)"
   ]
  },
  {
   "cell_type": "code",
   "execution_count": null,
   "id": "eff801de",
   "metadata": {},
   "outputs": [],
   "source": [
    "def substitution_decrypt(ciphertext_file,plaintext_file,cipher_alphabet):\n",
    "    \"\"\"\n",
    "    Reads a ciphertext file, decrypts it using the provided cipher alphabet, and writes it to a plantext file\n",
    "\n",
    "    :param ciphertext_file: encrypted text to be read and decrypted\n",
    "    :param plantext_file: plain text is written to this file\n",
    "    :param cipher_alphabet: dictionary containing the alphabet as keys and the substitution letter as each value\n",
    "    \"\"\"\n",
    "    # opens plantext_file\n",
    "    with open(ciphertext_file) as read_file:\n",
    "        decrypted_line = \"\"\n",
    "        reverse_cipher_alphabet = {}\n",
    "\n",
    "        # clears ciphertext_file if already existing, creates it if it doesn't\n",
    "        open(plaintext_file, 'w').close()\n",
    "        \n",
    "        # reverses cipher_alphabet keys and values\n",
    "        for key in cipher_alphabet.keys():\n",
    "            reverse_cipher_alphabet[cipher_alphabet[key]] = key\n",
    "\n",
    "        # loops through each line and decrypts each alphabetic character while skipping non-alphabetic characters\n",
    "        for line in read_file:\n",
    "            for character in line:\n",
    "                if character in reverse_cipher_alphabet.keys():\n",
    "                    decrypted_line += reverse_cipher_alphabet[character]\n",
    "                else:\n",
    "                    decrypted_line += character\n",
    "\n",
    "        with open(plaintext_file, 'a') as write_file:\n",
    "            write_file.write(decrypted_line)"
   ]
  }
 ],
 "metadata": {
  "language_info": {
   "name": "python"
  }
 },
 "nbformat": 4,
 "nbformat_minor": 5
}
