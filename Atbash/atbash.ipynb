{
 "cells": [
  {
   "cell_type": "code",
   "execution_count": null,
   "id": "832759af",
   "metadata": {},
   "outputs": [],
   "source": [
    "# run to get access to functions in generic_sub_ciphers.ipynb (substitution_encrypt, substitution_decrypt, add_upper are ones that will be needed)\n",
    "%run ../Generic_Sub_Ciphers/generic_sub_ciphers.ipynb"
   ]
  },
  {
   "cell_type": "code",
   "execution_count": null,
   "id": "f5ff06c4",
   "metadata": {},
   "outputs": [],
   "source": [
    "# remember you can reverse a word using [::-1], this will be useful here"
   ]
  },
  {
   "cell_type": "code",
   "execution_count": null,
   "id": "bd48ffb9",
   "metadata": {},
   "outputs": [],
   "source": [
    "def atbash_cipher_alphabet():\n",
    "\n",
    "    alphabet = ['a','b','c','d','e','f','g','h','i','j','k','l','m','n','o','p','q','r','s','t','u','v','w','x','y','z']\n",
    "    cipher_alphabet = dict()\n",
    "\n",
    "    for index in range(len(alphabet)):\n",
    "        cipher_alphabet[alphabet[index]] = alphabet[-index-1]\n",
    "    \n",
    "    print(cipher_alphabet)\n",
    "    "
   ]
  },
  {
   "cell_type": "code",
   "execution_count": 17,
   "id": "c89e8c59",
   "metadata": {},
   "outputs": [
    {
     "name": "stdout",
     "output_type": "stream",
     "text": [
      "{'a': 'z', 'b': 'y', 'c': 'x', 'd': 'w', 'e': 'v', 'f': 'u', 'g': 't', 'h': 's', 'i': 'r', 'j': 'q', 'k': 'p', 'l': 'o', 'm': 'n', 'n': 'm', 'o': 'l', 'p': 'k', 'q': 'j', 'r': 'i', 's': 'h', 't': 'g', 'u': 'f', 'v': 'e', 'w': 'd', 'x': 'c', 'y': 'b', 'z': 'a'}\n"
     ]
    }
   ],
   "source": [
    "atbash_cipher_alphabet()"
   ]
  },
  {
   "cell_type": "code",
   "execution_count": null,
   "id": "bb53a96f",
   "metadata": {},
   "outputs": [],
   "source": [
    "def atbash_encrypt(plaintext_file, ciphertext_file):\n",
    "    pass"
   ]
  },
  {
   "cell_type": "code",
   "execution_count": null,
   "id": "beaed8b0",
   "metadata": {},
   "outputs": [],
   "source": [
    "def atbash_decrypt(ciphertext_file, plaintext_file):\n",
    "    pass"
   ]
  },
  {
   "cell_type": "code",
   "execution_count": null,
   "id": "b07883c4",
   "metadata": {},
   "outputs": [],
   "source": [
    "def affine_decrypt(ciphertext_file, plaintext_file, a, b):\n",
    "    \"\"\"\n",
    "    Reads plaintext file encrypts using affine cipher and writes to cipher text file\n",
    "\n",
    "    :param plaintext_file: plaintext file to be read and encrypted\n",
    "    :param ciphertext_file: encrypted text is written to this file\n",
    "    \"\"\"\n",
    "    # creates cipher_alphabet\n",
    "    cipher_alphabet = affine_cipher_alphabet(a,b)\n",
    "\n",
    "    # checks if a and m, which means len(cipher_alphabet), are coprime\n",
    "    # coprime_check(a,cipher_alphabet)\n",
    "    \n",
    "    # calls the generic substitution_encrypt function which encrypts plaintext_file and writes to ciphertext_file\n",
    "    substitution_decrypt(ciphertext_file, plaintext_file, cipher_alphabet)"
   ]
  }
 ],
 "metadata": {
  "kernelspec": {
   "display_name": "Python 3",
   "language": "python",
   "name": "python3"
  },
  "language_info": {
   "codemirror_mode": {
    "name": "ipython",
    "version": 3
   },
   "file_extension": ".py",
   "mimetype": "text/x-python",
   "name": "python",
   "nbconvert_exporter": "python",
   "pygments_lexer": "ipython3",
   "version": "3.12.1"
  }
 },
 "nbformat": 4,
 "nbformat_minor": 5
}
