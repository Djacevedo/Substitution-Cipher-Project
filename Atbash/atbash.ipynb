{
 "cells": [
  {
   "cell_type": "code",
   "execution_count": null,
   "id": "2b38625f",
   "metadata": {},
   "outputs": [],
   "source": [
    "# run to get access to functions in generic_sub_ciphers.ipynb (substitution_encrypt, substitution_decrypt, add_upper are ones that will be needed)\n",
    "%run ../Generic_Sub_Ciphers/generic_sub_ciphers.ipynb"
   ]
  }
 ],
 "metadata": {
  "kernelspec": {
   "display_name": "Python 3",
   "language": "python",
   "name": "python3"
  },
  "language_info": {
   "codemirror_mode": {
    "name": "ipython",
    "version": 3
   },
   "file_extension": ".py",
   "mimetype": "text/x-python",
   "name": "python",
   "nbconvert_exporter": "python",
   "pygments_lexer": "ipython3",
   "version": "3.12.1"
  }
 },
 "nbformat": 4,
 "nbformat_minor": 5
}
