{
 "cells": [
  {
   "cell_type": "code",
   "execution_count": null,
   "id": "832759af",
   "metadata": {},
   "outputs": [],
   "source": [
    "# run to get access to functions in generic_sub_ciphers.ipynb (substitution_encrypt, substitution_decrypt, add_upper are ones that will be needed)\n",
    "%run ../Generic_Sub_Ciphers/generic_sub_ciphers.ipynb"
   ]
  },
  {
   "cell_type": "code",
   "execution_count": null,
   "id": "f5ff06c4",
   "metadata": {},
   "outputs": [],
   "source": [
    "# remember you can reverse a word using [::-1], this will be useful here"
   ]
  },
  {
   "cell_type": "code",
   "execution_count": 3,
   "id": "bd48ffb9",
   "metadata": {},
   "outputs": [],
   "source": [
    "def atbash_encrypt(text,cipher_alphabet):\n",
    "    alphabet = ['a','b','c','d','e','f','g','h','i','j','k','l','m','n','o','p','q','r','s','t','u','v','w','x','y','z']\n",
    "    cipher_alphabet = dict()\n",
    "    for letter in alphabet:\n",
    "        cipher_alphabet[alphabet[letter]] = alphabet[-letter-1]\n",
    "    return alphabet"
   ]
  }
 ],
 "metadata": {
  "kernelspec": {
   "display_name": "Python 3",
   "language": "python",
   "name": "python3"
  },
  "language_info": {
   "codemirror_mode": {
    "name": "ipython",
    "version": 3
   },
   "file_extension": ".py",
   "mimetype": "text/x-python",
   "name": "python",
   "nbconvert_exporter": "python",
   "pygments_lexer": "ipython3",
   "version": "3.13.3"
  }
 },
 "nbformat": 4,
 "nbformat_minor": 5
}
