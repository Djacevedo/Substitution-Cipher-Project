{
 "cells": [
  {
   "cell_type": "code",
   "execution_count": 6,
   "id": "832759af",
   "metadata": {},
   "outputs": [],
   "source": [
    "# run to get access to functions in generic_sub_ciphers.ipynb (substitution_encrypt, substitution_decrypt, add_upper are ones that will be needed)\n",
    "%run ../Generic_Sub_Ciphers/generic_sub_ciphers.ipynb"
   ]
  },
  {
   "cell_type": "code",
   "execution_count": null,
   "id": "f5ff06c4",
   "metadata": {},
   "outputs": [],
   "source": [
    "# remember you can reverse a word using [::-1], this will be useful here"
   ]
  },
  {
   "cell_type": "code",
   "execution_count": 14,
   "id": "bd48ffb9",
   "metadata": {},
   "outputs": [],
   "source": [
    "def atbash_cipher_alphabet():\n",
    "\n",
    "    alphabet = ['a','b','c','d','e','f','g','h','i','j','k','l','m','n','o','p','q','r','s','t','u','v','w','x','y','z']\n",
    "    cipher_alphabet = dict()\n",
    "\n",
    "    for letter in alphabet:\n",
    "        cipher_alphabet[alphabet[letter]] = alphabet[-letter-1]\n",
    "    \n",
    "    print(cipher_alphabet)\n",
    "    # return cipher_alphabet"
   ]
  },
  {
   "cell_type": "code",
   "execution_count": 15,
   "id": "c89e8c59",
   "metadata": {},
   "outputs": [
    {
     "ename": "TypeError",
     "evalue": "bad operand type for unary -: 'str'",
     "output_type": "error",
     "traceback": [
      "\u001b[31m---------------------------------------------------------------------------\u001b[39m",
      "\u001b[31mTypeError\u001b[39m                                 Traceback (most recent call last)",
      "\u001b[36mCell\u001b[39m\u001b[36m \u001b[39m\u001b[32mIn[15]\u001b[39m\u001b[32m, line 1\u001b[39m\n\u001b[32m----> \u001b[39m\u001b[32m1\u001b[39m \u001b[43matbash_cipher_alphabet\u001b[49m\u001b[43m(\u001b[49m\u001b[43m)\u001b[49m\n",
      "\u001b[36mCell\u001b[39m\u001b[36m \u001b[39m\u001b[32mIn[14]\u001b[39m\u001b[32m, line 7\u001b[39m, in \u001b[36matbash_cipher_alphabet\u001b[39m\u001b[34m()\u001b[39m\n\u001b[32m      4\u001b[39m cipher_alphabet = \u001b[38;5;28mdict\u001b[39m()\n\u001b[32m      6\u001b[39m \u001b[38;5;28;01mfor\u001b[39;00m letter \u001b[38;5;129;01min\u001b[39;00m alphabet:\n\u001b[32m----> \u001b[39m\u001b[32m7\u001b[39m     cipher_alphabet[alphabet[letter]] = alphabet[\u001b[43m-\u001b[49m\u001b[43mletter\u001b[49m-\u001b[32m1\u001b[39m]\n\u001b[32m      9\u001b[39m \u001b[38;5;28mprint\u001b[39m(cipher_alphabet)\n",
      "\u001b[31mTypeError\u001b[39m: bad operand type for unary -: 'str'"
     ]
    }
   ],
   "source": [
    "atbash_cipher_alphabet()"
   ]
  },
  {
   "cell_type": "code",
   "execution_count": null,
   "id": "bb53a96f",
   "metadata": {},
   "outputs": [],
   "source": [
    "def atbash_encrypt(plaintext_file, ciphertext_file):\n",
    "    pass"
   ]
  },
  {
   "cell_type": "code",
   "execution_count": null,
   "id": "beaed8b0",
   "metadata": {},
   "outputs": [],
   "source": [
    "def atbash_decrypt(ciphertext_file, plaintext_file):\n",
    "    pass"
   ]
  },
  {
   "cell_type": "code",
   "execution_count": null,
   "id": "b07883c4",
   "metadata": {},
   "outputs": [],
   "source": [
    "def affine_decrypt(ciphertext_file, plaintext_file, a, b):\n",
    "    \"\"\"\n",
    "    Reads plaintext file encrypts using affine cipher and writes to cipher text file\n",
    "\n",
    "    :param plaintext_file: plaintext file to be read and encrypted\n",
    "    :param ciphertext_file: encrypted text is written to this file\n",
    "    :param a: plugged into cipher formula (ax+b)mod m, a must be coprime with m which represnts the  \n",
    "    :param b: plugged into cipher formula (ax+b)mod m\n",
    "    \"\"\"\n",
    "    # creates cipher_alphabet\n",
    "    cipher_alphabet = affine_cipher_alphabet(a,b)\n",
    "\n",
    "    # checks if a and m, which means len(cipher_alphabet), are coprime\n",
    "    # coprime_check(a,cipher_alphabet)\n",
    "    \n",
    "    # calls the generic substitution_encrypt function which encrypts plaintext_file and writes to ciphertext_file\n",
    "    substitution_decrypt(ciphertext_file, plaintext_file, cipher_alphabet)"
   ]
  }
 ],
 "metadata": {
  "kernelspec": {
   "display_name": "Python 3",
   "language": "python",
   "name": "python3"
  },
  "language_info": {
   "codemirror_mode": {
    "name": "ipython",
    "version": 3
   },
   "file_extension": ".py",
   "mimetype": "text/x-python",
   "name": "python",
   "nbconvert_exporter": "python",
   "pygments_lexer": "ipython3",
   "version": "3.12.1"
  }
 },
 "nbformat": 4,
 "nbformat_minor": 5
}
