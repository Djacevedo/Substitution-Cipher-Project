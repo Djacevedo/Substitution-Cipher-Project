{
 "cells": [
  {
   "cell_type": "code",
   "execution_count": null,
   "id": "d6869505",
   "metadata": {
    "vscode": {
     "languageId": "plaintext"
    }
   },
   "outputs": [],
   "source": [
    "substitution_encrypt()"
   ]
  },
  {
   "cell_type": "code",
   "execution_count": null,
   "id": "00d7bcde",
   "metadata": {
    "vscode": {
     "languageId": "plaintext"
    }
   },
   "outputs": [],
   "source": []
  }
 ],
 "metadata": {
  "language_info": {
   "name": "python"
  }
 },
 "nbformat": 4,
 "nbformat_minor": 5
}
