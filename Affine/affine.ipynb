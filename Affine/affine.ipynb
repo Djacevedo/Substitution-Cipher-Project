{
 "cells": [
  {
   "cell_type": "code",
   "execution_count": 19,
   "id": "e59e6564",
   "metadata": {},
   "outputs": [],
   "source": [
    "# run to get access to functions in generic_sub_ciphers.ipynb (substitution_encrypt, substitution_decrypt, add_upper are ones that will be needed)\n",
    "%run ../Generic_Sub_Ciphers/generic_sub_ciphers.ipynb"
   ]
  },
  {
   "cell_type": "code",
   "execution_count": 11,
   "id": "b2cf961e",
   "metadata": {},
   "outputs": [],
   "source": [
    "import sys\n",
    "import math"
   ]
  },
  {
   "cell_type": "code",
   "execution_count": 20,
   "id": "3651a4e5",
   "metadata": {},
   "outputs": [],
   "source": [
    "def affine_encrypt_cipher_alphabet(a,b):\n",
    "    \"\"\"\n",
    "    Creates the cipher_alphabet for the assign cipher\n",
    "\n",
    "    \"\"\"\n",
    "    alphabet = \"abcdefghijklmnopqrstuvwxyz\"\n",
    "    indexed_alphabet = {}\n",
    "\n",
    "    reverse_indexed_alphabet = {}\n",
    "    cipher_alphabet = {}\n",
    "\n",
    "    # loops through alphabet and assigns each letter key an index as a value \n",
    "    for index in range(len(alphabet)): \n",
    "        indexed_alphabet[alphabet[index]] = index\n",
    "        indexed_alphabet[alphabet[index].upper()] = index+26\n",
    "\n",
    "    # runs indexed_alphabet through affine cipher formula and saves them as cipher_alphabet\n",
    "    for key in indexed_alphabet:\n",
    "        cipher_alphabet[key] = (a*indexed_alphabet[key] + b) % len(indexed_alphabet)\n",
    "    \n",
    "    # reverses indexed_alpabet so cipher_alphabet keys and reverse_indexed_alphabet values are letters, making them easier to map together\n",
    "    reverse_indexed_alphabet = reverse_cipher(indexed_alphabet)\n",
    "\n",
    "    # maps cipher_alphabet keys to reverse_indexed_alphabet values to form 1 to 1 letter key-value pairs\n",
    "    for key in cipher_alphabet:\n",
    "        cipher_alphabet[key] = reverse_indexed_alphabet[cipher_alphabet[key]]\n",
    "\n",
    "    # return cipher_alphabet\n",
    "\n",
    "    print(cipher_alphabet)\n",
    "    print(new_indexed_alphabet)\n",
    "    print(indexed_alphabet)\n",
    "    print(reverse_indexed_alphabet)\n",
    "\n",
    "    \n",
    "    \n"
   ]
  },
  {
   "cell_type": "code",
   "execution_count": 18,
   "id": "5c789b15",
   "metadata": {},
   "outputs": [
    {
     "name": "stdout",
     "output_type": "stream",
     "text": [
      "{'a': 'i', 'A': 'I', 'b': 'n', 'B': 'N', 'c': 's', 'C': 'S', 'd': 'x', 'D': 'X', 'e': 'C', 'E': 'c', 'f': 'H', 'F': 'h', 'g': 'M', 'G': 'm', 'h': 'R', 'H': 'r', 'i': 'W', 'I': 'w', 'j': 'b', 'J': 'B', 'k': 'g', 'K': 'G', 'l': 'l', 'L': 'L', 'm': 'q', 'M': 'Q', 'n': 'v', 'N': 'V', 'o': 'A', 'O': 'a', 'p': 'F', 'P': 'f', 'q': 'K', 'Q': 'k', 'r': 'P', 'R': 'p', 's': 'U', 'S': 'u', 't': 'Z', 'T': 'z', 'u': 'e', 'U': 'E', 'v': 'j', 'V': 'J', 'w': 'o', 'W': 'O', 'x': 't', 'X': 'T', 'y': 'y', 'Y': 'Y', 'z': 'D', 'Z': 'd'}\n",
      "{'a': 8, 'A': 34, 'b': 13, 'B': 39, 'c': 18, 'C': 44, 'd': 23, 'D': 49, 'e': 28, 'E': 2, 'f': 33, 'F': 7, 'g': 38, 'G': 12, 'h': 43, 'H': 17, 'i': 48, 'I': 22, 'j': 1, 'J': 27, 'k': 6, 'K': 32, 'l': 11, 'L': 37, 'm': 16, 'M': 42, 'n': 21, 'N': 47, 'o': 26, 'O': 0, 'p': 31, 'P': 5, 'q': 36, 'Q': 10, 'r': 41, 'R': 15, 's': 46, 'S': 20, 't': 51, 'T': 25, 'u': 4, 'U': 30, 'v': 9, 'V': 35, 'w': 14, 'W': 40, 'x': 19, 'X': 45, 'y': 24, 'Y': 50, 'z': 29, 'Z': 3}\n",
      "{'a': 0, 'A': 26, 'b': 1, 'B': 27, 'c': 2, 'C': 28, 'd': 3, 'D': 29, 'e': 4, 'E': 30, 'f': 5, 'F': 31, 'g': 6, 'G': 32, 'h': 7, 'H': 33, 'i': 8, 'I': 34, 'j': 9, 'J': 35, 'k': 10, 'K': 36, 'l': 11, 'L': 37, 'm': 12, 'M': 38, 'n': 13, 'N': 39, 'o': 14, 'O': 40, 'p': 15, 'P': 41, 'q': 16, 'Q': 42, 'r': 17, 'R': 43, 's': 18, 'S': 44, 't': 19, 'T': 45, 'u': 20, 'U': 46, 'v': 21, 'V': 47, 'w': 22, 'W': 48, 'x': 23, 'X': 49, 'y': 24, 'Y': 50, 'z': 25, 'Z': 51}\n",
      "{0: 'a', 26: 'A', 1: 'b', 27: 'B', 2: 'c', 28: 'C', 3: 'd', 29: 'D', 4: 'e', 30: 'E', 5: 'f', 31: 'F', 6: 'g', 32: 'G', 7: 'h', 33: 'H', 8: 'i', 34: 'I', 9: 'j', 35: 'J', 10: 'k', 36: 'K', 11: 'l', 37: 'L', 12: 'm', 38: 'M', 13: 'n', 39: 'N', 14: 'o', 40: 'O', 15: 'p', 41: 'P', 16: 'q', 42: 'Q', 17: 'r', 43: 'R', 18: 's', 44: 'S', 19: 't', 45: 'T', 20: 'u', 46: 'U', 21: 'v', 47: 'V', 22: 'w', 48: 'W', 23: 'x', 49: 'X', 24: 'y', 50: 'Y', 25: 'z', 51: 'Z'}\n"
     ]
    }
   ],
   "source": [
    "affine_encrypt_cipher_alphabet(5,8)"
   ]
  },
  {
   "cell_type": "code",
   "execution_count": 13,
   "id": "159b6415",
   "metadata": {},
   "outputs": [],
   "source": [
    "def affine_encrypt(plaintext_file, ciphertext_file, a, b):\n",
    "    \"\"\"\n",
    "    Reads plaintext file encrypts using affine cipher and writes to cipher text file\n",
    "\n",
    "    :param plaintext_file: plaintext file to be read and encrypted\n",
    "    :param ciphertext_file: encrypted text is written to this file\n",
    "    :param a: plugged into cipher formula (ax+b)mod m, a must be coprime with m which represnts the  \n",
    "    :param b: plugged into cipher formula (ax+b)mod m\n",
    "    \"\"\"\n",
    "    cipher_alphabet = affine_cipher_alphabet(a,b)\n",
    "\n",
    "    if math.gcd(a,len(cipher_alphabet)) != 1:\n",
    "        sys.exit(f\"a is invalid, it is not a coprime of {len(cipher_alphabet)}\")\n",
    "    \n",
    "    substitution_encrypt(plaintext_file, ciphertext_file, cipher_alphabet)\n",
    "\n",
    "\n",
    "    \n",
    "    \n",
    "    \n"
   ]
  },
  {
   "cell_type": "code",
   "execution_count": 14,
   "id": "3893fed8",
   "metadata": {},
   "outputs": [],
   "source": [
    "affine_encrypt('plaintext_test.txt', 'ciphertext.txt', 5, 8)"
   ]
  },
  {
   "cell_type": "code",
   "execution_count": null,
   "id": "5c5109c4",
   "metadata": {},
   "outputs": [],
   "source": [
    "pow(a, -1, len(cipher_alphabet))"
   ]
  },
  {
   "cell_type": "code",
   "execution_count": null,
   "id": "bbb937cb",
   "metadata": {},
   "outputs": [],
   "source": [
    "def affine_decrypt(ciphertext_file, plaintext_file, a, b):\n",
    "    "
   ]
  }
 ],
 "metadata": {
  "kernelspec": {
   "display_name": "Python 3",
   "language": "python",
   "name": "python3"
  },
  "language_info": {
   "codemirror_mode": {
    "name": "ipython",
    "version": 3
   },
   "file_extension": ".py",
   "mimetype": "text/x-python",
   "name": "python",
   "nbconvert_exporter": "python",
   "pygments_lexer": "ipython3",
   "version": "3.12.1"
  }
 },
 "nbformat": 4,
 "nbformat_minor": 5
}
