{
 "cells": [
  {
   "cell_type": "code",
   "execution_count": null,
   "id": "d6edcf47",
   "metadata": {
    "vscode": {
     "languageId": "plaintext"
    }
   },
   "outputs": [],
   "source": [
    "with open('plaintext.txt', 'w') as write_file:\n",
    "    write_file.write(\"plaintext\")\n",
    "\n",
    "with open('ciphertext.txt', 'w') as write_file:\n",
    "    write_file.write(\"ciphertext\")"
   ]
  }
 ],
 "metadata": {
  "language_info": {
   "name": "python"
  }
 },
 "nbformat": 4,
 "nbformat_minor": 5
}
