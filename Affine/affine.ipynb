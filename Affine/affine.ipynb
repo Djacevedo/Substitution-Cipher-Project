{
 "cells": [
  {
   "cell_type": "code",
   "execution_count": 36,
   "id": "e59e6564",
   "metadata": {},
   "outputs": [],
   "source": [
    "# run to get access to functions in generic_sub_ciphers.ipynb (substitution_encrypt, substitution_decrypt, add_upper are ones that will be needed)\n",
    "%run ../Generic_Sub_Ciphers/generic_sub_ciphers.ipynb"
   ]
  },
  {
   "cell_type": "code",
   "execution_count": 37,
   "id": "b2cf961e",
   "metadata": {},
   "outputs": [],
   "source": [
    "import sys\n",
    "import math"
   ]
  },
  {
   "cell_type": "code",
   "execution_count": 38,
   "id": "5544dd14",
   "metadata": {},
   "outputs": [],
   "source": [
    "def coprime_check(a,cipher_alphabet):\n",
    "    if math.gcd(a,len(cipher_alphabet)) != 1:\n",
    "        sys.exit(f\"a is invalid, it is not a coprime of {len(cipher_alphabet)}\")"
   ]
  },
  {
   "cell_type": "code",
   "execution_count": null,
   "id": "3651a4e5",
   "metadata": {},
   "outputs": [],
   "source": [
    "def affine_cipher_alphabet(a,b):\n",
    "    \"\"\"\n",
    "    Creates the cipher_alphabet for the affine cipher\n",
    "\n",
    "    :param a: plugged into cipher formula (ax+b)mod m, a must be coprime with m which represents the length of the alphabet \n",
    "    :param b: plugged into cipher formula (ax+b)mod m\n",
    "    \"\"\"\n",
    "    alphabet = \"abcdefghijklmnopqrstuvwxyz\"\n",
    "    indexed_alphabet = {}\n",
    "    cipher_alphabet = {}\n",
    "\n",
    "    # loops through alphabet and assigns each letter key an index as a value \n",
    "    for index in range(len(alphabet)): \n",
    "        indexed_alphabet[alphabet[index]] = index\n",
    "\n",
    "    # runs indexed_alphabet through affine cipher formula and saves them as cipher_alphabet\n",
    "    for key in indexed_alphabet:\n",
    "        cipher_alphabet[key] = (a*indexed_alphabet[key] + b) % len(indexed_alphabet)\n",
    "    \n",
    "    # reverses indexed_alpabet so cipher_alphabet keys and reverse_indexed_alphabet values are letters, making them easier to map together\n",
    "    reverse_indexed_alphabet = reverse_cipher(indexed_alphabet)\n",
    "\n",
    "    # maps cipher_alphabet keys to reverse_indexed_alphabet values to form 1 to 1 letter key-value pairs\n",
    "    for key in cipher_alphabet:\n",
    "        cipher_alphabet[key] = reverse_indexed_alphabet[cipher_alphabet[key]]\n",
    "\n",
    "    return cipher_alphabet\n",
    "    # return indexed_alphabet\n",
    "\n",
    "    # print(cipher_alphabet)\n",
    "    # print(new_indexed_alphabet)\n",
    "    # print(indexed_alphabet)\n",
    "    # print(reverse_indexed_alphabet)\n",
    "\n",
    "    \n",
    "    \n"
   ]
  },
  {
   "cell_type": "code",
   "execution_count": 90,
   "id": "5c789b15",
   "metadata": {},
   "outputs": [
    {
     "name": "stdout",
     "output_type": "stream",
     "text": [
      "{'a': 'i', 'b': 'n', 'c': 's', 'd': 'x', 'e': 'c', 'f': 'h', 'g': 'm', 'h': 'r', 'i': 'w', 'j': 'b', 'k': 'g', 'l': 'l', 'm': 'q', 'n': 'v', 'o': 'a', 'p': 'f', 'q': 'k', 'r': 'p', 's': 'u', 't': 'z', 'u': 'e', 'v': 'j', 'w': 'o', 'x': 't', 'y': 'y', 'z': 'd'}\n",
      "{'a': 8, 'b': 13, 'c': 18, 'd': 23, 'e': 2, 'f': 7, 'g': 12, 'h': 17, 'i': 22, 'j': 1, 'k': 6, 'l': 11, 'm': 16, 'n': 21, 'o': 0, 'p': 5, 'q': 10, 'r': 15, 's': 20, 't': 25, 'u': 4, 'v': 9, 'w': 14, 'x': 19, 'y': 24, 'z': 3}\n",
      "{'a': 0, 'b': 1, 'c': 2, 'd': 3, 'e': 4, 'f': 5, 'g': 6, 'h': 7, 'i': 8, 'j': 9, 'k': 10, 'l': 11, 'm': 12, 'n': 13, 'o': 14, 'p': 15, 'q': 16, 'r': 17, 's': 18, 't': 19, 'u': 20, 'v': 21, 'w': 22, 'x': 23, 'y': 24, 'z': 25}\n",
      "{0: 'a', 1: 'b', 2: 'c', 3: 'd', 4: 'e', 5: 'f', 6: 'g', 7: 'h', 8: 'i', 9: 'j', 10: 'k', 11: 'l', 12: 'm', 13: 'n', 14: 'o', 15: 'p', 16: 'q', 17: 'r', 18: 's', 19: 't', 20: 'u', 21: 'v', 22: 'w', 23: 'x', 24: 'y', 25: 'z'}\n"
     ]
    }
   ],
   "source": [
    "affine_cipher_alphabet(5,8)"
   ]
  },
  {
   "cell_type": "code",
   "execution_count": null,
   "id": "159b6415",
   "metadata": {},
   "outputs": [],
   "source": [
    "def affine_encrypt(plaintext_file, ciphertext_file, a, b):\n",
    "    \"\"\"\n",
    "    Reads plaintext file encrypts using affine cipher and writes to cipher text file\n",
    "\n",
    "    :param plaintext_file: plaintext file to be read and encrypted\n",
    "    :param ciphertext_file: encrypted text is written to this file\n",
    "    :param a: plugged into cipher formula (ax+b)mod m, a must be coprime with m which represents the length of the alphabet \n",
    "    :param b: plugged into cipher formula (ax+b)mod m\n",
    "    \"\"\"\n",
    "    # creates cipher_alphabet\n",
    "    cipher_alphabet = affine_cipher_alphabet(a,b)\n",
    "\n",
    "    # checks if a and m, which means len(cipher_alphabet), are coprime\n",
    "    coprime_check(a,cipher_alphabet)\n",
    "    \n",
    "    # calls the generic substitution_encrypt function which encrypts plaintext_file and writes to ciphertext_file\n",
    "    substitution_encrypt(plaintext_file, ciphertext_file, cipher_alphabet)\n",
    "\n",
    "    \n"
   ]
  },
  {
   "cell_type": "code",
   "execution_count": 45,
   "id": "3893fed8",
   "metadata": {},
   "outputs": [],
   "source": [
    "affine_encrypt('liquid.txt', 'liquid_encrypted.txt', 5, 8)"
   ]
  },
  {
   "cell_type": "code",
   "execution_count": null,
   "id": "bbb937cb",
   "metadata": {},
   "outputs": [],
   "source": [
    "def affine_decrypt(ciphertext_file, plaintext_file, a, b):\n",
    "    \"\"\"\n",
    "    Reads plaintext file encrypts using affine cipher and writes to cipher text file\n",
    "\n",
    "    :param plaintext_file: plaintext file to be read and encrypted\n",
    "    :param ciphertext_file: encrypted text is written to this file\n",
    "    :param a: plugged into cipher formula (ax+b)mod m, a must be coprime with m which represnts the  \n",
    "    :param b: plugged into cipher formula (ax+b)mod m\n",
    "    \"\"\"\n",
    "    # creates cipher_alphabet\n",
    "    cipher_alphabet = affine_cipher_alphabet(a,b)\n",
    "\n",
    "    # checks if a and m, which means len(cipher_alphabet), are coprime\n",
    "    coprime_check(a,cipher_alphabet)\n",
    "    \n",
    "    # calls the generic substitution_encrypt function which encrypts plaintext_file and writes to ciphertext_file\n",
    "    substitution_decrypt(ciphertext_file, plaintext_file, cipher_alphabet)"
   ]
  },
  {
   "cell_type": "code",
   "execution_count": 49,
   "id": "0df17a12",
   "metadata": {},
   "outputs": [],
   "source": [
    "affine_decrypt('liquid_encrypted.txt', 'liquid_decrypted.txt', 5, 8)"
   ]
  },
  {
   "cell_type": "code",
   "execution_count": null,
   "id": "5c5109c4",
   "metadata": {},
   "outputs": [],
   "source": [
    "def real_affine_decrypt(ciphertext_file, plaintext_file, a, b):\n",
    "    \n",
    "    indexed_alphabet = affine_cipher_alphabet(a,b)\n",
    "    new_indexed_alphabet = {}\n",
    "    cipher_alphabet = {}\n",
    "\n",
    "    for key in indexed_alphabet:\n",
    "        new_indexed_alphabet[key] = pow(a, -1, len(indexed_alphabet))*(indexed_alphabet[key] - b) % len(indexed_alphabet)\n",
    "    \n",
    "    reverse_new_indexed_alphabet = reverse_cipher(new_indexed_alphabet)\n",
    "\n",
    "    for key in indexed_alphabet:\n",
    "        cipher_alphabet[key] = reverse_new_indexed_alphabet[indexed_alphabet[key]]\n",
    "\n",
    "    substitution_decrypt(ciphertext_file, plaintext_file, cipher_alphabet)\n",
    "\n"
   ]
  },
  {
   "cell_type": "code",
   "execution_count": null,
   "id": "88253934",
   "metadata": {},
   "outputs": [],
   "source": [
    "real_affine_decrypt(\"asda\", \"asdas\", 5, 8)"
   ]
  }
 ],
 "metadata": {
  "kernelspec": {
   "display_name": "Python 3",
   "language": "python",
   "name": "python3"
  },
  "language_info": {
   "codemirror_mode": {
    "name": "ipython",
    "version": 3
   },
   "file_extension": ".py",
   "mimetype": "text/x-python",
   "name": "python",
   "nbconvert_exporter": "python",
   "pygments_lexer": "ipython3",
   "version": "3.12.1"
  }
 },
 "nbformat": 4,
 "nbformat_minor": 5
}
