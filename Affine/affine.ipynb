{
 "cells": [
  {
   "cell_type": "code",
   "execution_count": 45,
   "id": "e59e6564",
   "metadata": {},
   "outputs": [],
   "source": [
    "# run to get access to functions in generic_sub_ciphers.ipynb (substitution_encrypt, substitution_decrypt, add_upper are ones that will be needed)\n",
    "%run ../Generic_Sub_Ciphers/generic_sub_ciphers.ipynb"
   ]
  },
  {
   "cell_type": "code",
   "execution_count": 46,
   "id": "b2cf961e",
   "metadata": {},
   "outputs": [],
   "source": [
    "import sys\n",
    "import math"
   ]
  },
  {
   "cell_type": "code",
   "execution_count": 65,
   "id": "3651a4e5",
   "metadata": {},
   "outputs": [],
   "source": [
    "def affine_cipher_alphabet(a,b):\n",
    "    \"\"\"\n",
    "\n",
    "    \"\"\"\n",
    "    alphabet = \"abcdefghijklmnopqrstuvwxyz\"\n",
    "    indexed_alphabet = {}\n",
    "    cipher_alphabet = {}\n",
    "    reverse_indexed_alphabet = {}\n",
    "\n",
    "    for index in range(len(alphabet)): \n",
    "        indexed_alphabet[alphabet[index]] = index\n",
    "        indexed_alphabet[alphabet[index].upper()] = index+26\n",
    "\n",
    "    for key in indexed_alphabet:\n",
    "        cipher_alphabet[key] = (a*indexed_alphabet[key] + b) % len(indexed_alphabet)\n",
    "    \n",
    "    for key in indexed_alphabet:\n",
    "        reverse_indexed_alphabet[indexed_alphabet[key]] = key\n",
    "\n",
    "    for key in cipher_alphabet:\n",
    "        cipher_alphabet[key] = reverse_indexed_alphabet[cipher_alphabet[key]]\n",
    "\n",
    "\n",
    "    return cipher_alphabet\n",
    "\n",
    "    \n",
    "    \n"
   ]
  },
  {
   "cell_type": "code",
   "execution_count": 66,
   "id": "159b6415",
   "metadata": {},
   "outputs": [],
   "source": [
    "def affine_encrypt(plaintext_file, ciphertext_file, a, b):\n",
    "    \"\"\"\n",
    "    Reads plaintext file encrypts using affine cipher and writes to cipher text file\n",
    "\n",
    "    :param plaintext_file: plaintext file to be read and encrypted\n",
    "    :param ciphertext_file: encrypted text is written to this file\n",
    "    :param a: plugged into cipher formula (ax+b)mod m, a must be coprime with m which represnts the  \n",
    "    :param b: plugged into cipher formula (ax+b)mod m\n",
    "    \"\"\"\n",
    "    cipher_alphabet = affine_cipher_alphabet(a,b)\n",
    "\n",
    "    if math.gcd(a,len(cipher_alphabet)) != 1:\n",
    "        sys.exit(f\"a is invalid, it is not a coprime of {len(cipher_alphabet)}\")\n",
    "    \n",
    "    substitution_encrypt(plaintext_file, ciphertext_file, cipher_alphabet)\n",
    "\n",
    "\n",
    "    \n",
    "    \n",
    "    \n"
   ]
  },
  {
   "cell_type": "code",
   "execution_count": 67,
   "id": "3893fed8",
   "metadata": {},
   "outputs": [],
   "source": [
    "affine_encrypt('plaintext_test.txt', 'ciphertext.txt', 5, 8)"
   ]
  },
  {
   "cell_type": "code",
   "execution_count": null,
   "id": "bbb937cb",
   "metadata": {},
   "outputs": [],
   "source": [
    "def affine_decrypt(ciphertext_file, plaintext_file, a, b):\n",
    "    pass"
   ]
  }
 ],
 "metadata": {
  "kernelspec": {
   "display_name": "Python 3",
   "language": "python",
   "name": "python3"
  },
  "language_info": {
   "codemirror_mode": {
    "name": "ipython",
    "version": 3
   },
   "file_extension": ".py",
   "mimetype": "text/x-python",
   "name": "python",
   "nbconvert_exporter": "python",
   "pygments_lexer": "ipython3",
   "version": "3.12.1"
  }
 },
 "nbformat": 4,
 "nbformat_minor": 5
}
